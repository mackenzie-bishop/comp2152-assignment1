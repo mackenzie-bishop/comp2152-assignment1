{
 "cells": [
  {
   "cell_type": "code",
   "execution_count": null,
   "id": "7d4d3fcc-85ad-41f5-b968-9f6ca2531d52",
   "metadata": {},
   "outputs": [],
   "source": [
    "# Author: Mackenzie Bishop\n",
    "# Assignment: #1\n",
    "\n",
    "\n",
    "# Variable declarations\n",
    "gym_member = \"Alex Alliton\"  # str\n",
    "preferred_weight_kg = 20.5  # float\n",
    "highest_reps = 25  # int\n",
    "membership_active = True  # bool\n",
    "\n",
    "# Dictionary to store workout statistics\n",
    "# Data type: dict[str, tuple[int, int, int]]\n",
    "workout_stats = {\n",
    "    \"Alex\": (30, 45, 20),\n",
    "    \"Jamie\": (40, 50, 25),\n",
    "    \"Taylor\": (25, 35, 30)\n",
    "}\n",
    "# Calculate total workout minutes for each friend and add to dictionary\n",
    "total_minutes_dict = {f\"{friend}_Total\": sum(activities) for friend, activities in workout_stats.items()}\n",
    "workout_stats.update(total_minutes_dict)\n",
    "\n",
    "# Create a 2D list (nested list) of workout minutes\n",
    "# Data type: list[list[int]]\n",
    "workout_list = [list(activities) for activities in workout_stats.values() if isinstance(activities, tuple)]\n",
    "\n",
    "# Slice to extract yoga and running minutes for all friends\n",
    "yoga_running = [row[:2] for row in workout_list]\n",
    "print(\"Yoga & Running Minutes for All Friends:\", yoga_running)\n",
    "\n",
    "# Slice to extract weightlifting minutes for the last two friends\n",
    "weightlifting_last_two = [row[2] for row in workout_list[-2:]]\n",
    "print(\"Weightlifting Minutes for Last Two Friends:\", weightlifting_last_two)\n",
    "\n",
    "# Check if any friend's total workout minutes are >= 120\n",
    "for friend in workout_stats:\n",
    "    if friend.endswith(\"_Total\") and workout_stats[friend] >= 120:\n",
    "        print(f\"Great job staying active, {friend.replace('_Total', '')}!\")\n",
    "\n",
    "# User input feature to check workout stats for a specific friend\n",
    "friend_name = input(\"Enter a friend's name to check their workout stats: \").strip()\n",
    "if friend_name in workout_stats:\n",
    "    print(f\"{friend_name}'s Workout Minutes: Yoga={workout_stats[friend_name][0]}, \"\n",
    "          f\"Running={workout_stats[friend_name][1]}, Weightlifting={workout_stats[friend_name][2]}\")\n",
    "    print(f\"Total Minutes: {workout_stats[friend_name + '_Total']}\")\n",
    "else:\n",
    "    print(f\"Friend {friend_name} not found in the records.\")\n",
    "# Find the friend with the highest and lowest total workout minutes\n",
    "total_minutes = {friend: minutes for friend, minutes in workout_stats.items() if friend.endswith(\"_Total\")}\n",
    "max_friend = max(total_minutes, key=total_minutes.get).replace(\"_Total\", \"\")\n",
    "min_friend = min(total_minutes, key=total_minutes.get).replace(\"_Total\", \"\")\n",
    "\n",
    "print(f\"Friend with the highest total workout minutes: {max_friend}\")\n",
    "print(f\"Friend with the lowest total workout minutes: {min_friend}\")"
   ]
  }
 ],
 "metadata": {
  "kernelspec": {
   "display_name": "Python 3 (ipykernel)",
   "language": "python",
   "name": "python3"
  },
  "language_info": {
   "codemirror_mode": {
    "name": "ipython",
    "version": 3
   },
   "file_extension": ".py",
   "mimetype": "text/x-python",
   "name": "python",
   "nbconvert_exporter": "python",
   "pygments_lexer": "ipython3",
   "version": "3.13.2"
  }
 },
 "nbformat": 4,
 "nbformat_minor": 5
}
